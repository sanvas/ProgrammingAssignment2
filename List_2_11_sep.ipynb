{
  "nbformat": 4,
  "nbformat_minor": 0,
  "metadata": {
    "colab": {
      "provenance": [],
      "include_colab_link": true
    },
    "kernelspec": {
      "name": "python3",
      "display_name": "Python 3"
    },
    "language_info": {
      "name": "python"
    }
  },
  "cells": [
    {
      "cell_type": "markdown",
      "metadata": {
        "id": "view-in-github",
        "colab_type": "text"
      },
      "source": [
        "<a href=\"https://colab.research.google.com/github/sanvas/ProgrammingAssignment2/blob/master/List_2_11_sep.ipynb\" target=\"_parent\"><img src=\"https://colab.research.google.com/assets/colab-badge.svg\" alt=\"Open In Colab\"/></a>"
      ]
    },
    {
      "cell_type": "code",
      "execution_count": null,
      "metadata": {
        "colab": {
          "base_uri": "https://localhost:8080/"
        },
        "id": "YvX7hF5VxCEQ",
        "outputId": "c4794efd-ee04-4bd7-e0bf-3e783d8103d0"
      },
      "outputs": [
        {
          "output_type": "execute_result",
          "data": {
            "text/plain": [
              "23"
            ]
          },
          "metadata": {},
          "execution_count": 1
        }
      ],
      "source": [
        "10+13"
      ]
    },
    {
      "cell_type": "code",
      "source": [
        "runs = [62, 85, 74, 10, 12, 101, 122, 99, 81, 55]"
      ],
      "metadata": {
        "id": "n_GhAygmxGp5"
      },
      "execution_count": null,
      "outputs": []
    },
    {
      "cell_type": "code",
      "source": [
        "#slicing\n",
        "runs [1:3]"
      ],
      "metadata": {
        "colab": {
          "base_uri": "https://localhost:8080/"
        },
        "id": "j5tE7-CExL5i",
        "outputId": "d401833d-71d8-406c-9a58-06b9ea105e26"
      },
      "execution_count": null,
      "outputs": [
        {
          "output_type": "execute_result",
          "data": {
            "text/plain": [
              "[85, 74]"
            ]
          },
          "metadata": {},
          "execution_count": 3
        }
      ]
    },
    {
      "cell_type": "code",
      "source": [
        "runs [-5:0:-1]"
      ],
      "metadata": {
        "colab": {
          "base_uri": "https://localhost:8080/"
        },
        "id": "EVK2o7oCxPay",
        "outputId": "405dde8e-33d8-46bf-e8af-7937a2ce6214"
      },
      "execution_count": null,
      "outputs": [
        {
          "output_type": "execute_result",
          "data": {
            "text/plain": [
              "[101, 12, 10, 74, 85]"
            ]
          },
          "metadata": {},
          "execution_count": 4
        }
      ]
    },
    {
      "cell_type": "code",
      "source": [
        "runs [-5:-1]"
      ],
      "metadata": {
        "colab": {
          "base_uri": "https://localhost:8080/"
        },
        "id": "K0t174K8xrXH",
        "outputId": "12990d0d-64f1-45d8-f578-7904e21b060c"
      },
      "execution_count": null,
      "outputs": [
        {
          "output_type": "execute_result",
          "data": {
            "text/plain": [
              "[101, 122, 99, 81]"
            ]
          },
          "metadata": {},
          "execution_count": 11
        }
      ]
    },
    {
      "cell_type": "code",
      "source": [
        "len(runs)"
      ],
      "metadata": {
        "colab": {
          "base_uri": "https://localhost:8080/"
        },
        "id": "JkoBOWO4ylt4",
        "outputId": "d9e53f21-4158-46b2-e83d-802cb36a245a"
      },
      "execution_count": null,
      "outputs": [
        {
          "output_type": "execute_result",
          "data": {
            "text/plain": [
              "10"
            ]
          },
          "metadata": {},
          "execution_count": 12
        }
      ]
    },
    {
      "cell_type": "code",
      "source": [
        "#last 5 runs\n",
        "runs[len(runs)-5: len(runs)]"
      ],
      "metadata": {
        "colab": {
          "base_uri": "https://localhost:8080/"
        },
        "id": "du_5hY19zOch",
        "outputId": "fe068ffe-f80a-4c13-8692-6f7af902fed6"
      },
      "execution_count": null,
      "outputs": [
        {
          "output_type": "execute_result",
          "data": {
            "text/plain": [
              "[101, 122, 99, 81, 55]"
            ]
          },
          "metadata": {},
          "execution_count": 13
        }
      ]
    },
    {
      "cell_type": "code",
      "source": [
        "runs = [62, 85, 74, 10, 12, 101, 122, 99, 81, 55]\n",
        "\n",
        "last_5_runs =[]\n",
        "\n",
        "for i in range (1,6):\n",
        "  last_5_runs.append(runs[-i])\n"
      ],
      "metadata": {
        "id": "lskK1XNzzYi8"
      },
      "execution_count": null,
      "outputs": []
    },
    {
      "cell_type": "code",
      "source": [
        "last_5_runs"
      ],
      "metadata": {
        "colab": {
          "base_uri": "https://localhost:8080/"
        },
        "id": "SaaHfjpH0JPN",
        "outputId": "00d05ff8-7ad5-4365-e82e-c24832d4d93d"
      },
      "execution_count": null,
      "outputs": [
        {
          "output_type": "execute_result",
          "data": {
            "text/plain": [
              "[55, 81, 99, 122, 101]"
            ]
          },
          "metadata": {},
          "execution_count": 15
        }
      ]
    },
    {
      "cell_type": "code",
      "source": [
        "#store runs scored in odd occurrances/ matches\n",
        "\n",
        "1. Run the Look\n",
        "1. a) either take the step size as 2\n",
        "1.b ) use if condition to check i%2==0"
      ],
      "metadata": {
        "id": "dtrRAIht0KfO"
      },
      "execution_count": null,
      "outputs": []
    },
    {
      "cell_type": "code",
      "source": [
        "runs = [62, 85, 74, 10, 12, 101, 122, 99, 81, 55]"
      ],
      "metadata": {
        "id": "v5Awc35A1x0g"
      },
      "execution_count": null,
      "outputs": []
    },
    {
      "cell_type": "code",
      "source": [
        "runs[0:5]"
      ],
      "metadata": {
        "colab": {
          "base_uri": "https://localhost:8080/"
        },
        "id": "cagy51261x2g",
        "outputId": "1833445d-3ce3-43e9-9de4-aebafdb9c644"
      },
      "execution_count": null,
      "outputs": [
        {
          "output_type": "execute_result",
          "data": {
            "text/plain": [
              "[62, 85, 74, 10, 12]"
            ]
          },
          "metadata": {},
          "execution_count": 17
        }
      ]
    },
    {
      "cell_type": "code",
      "source": [
        "runs[0:5:-1]"
      ],
      "metadata": {
        "colab": {
          "base_uri": "https://localhost:8080/"
        },
        "id": "rZ6crZzp1x4z",
        "outputId": "d8675474-a9c9-4ce1-fd35-1e058ab9f21e"
      },
      "execution_count": null,
      "outputs": [
        {
          "output_type": "execute_result",
          "data": {
            "text/plain": [
              "[]"
            ]
          },
          "metadata": {},
          "execution_count": 20
        }
      ]
    },
    {
      "cell_type": "code",
      "source": [
        "runs[5:0:-1]"
      ],
      "metadata": {
        "colab": {
          "base_uri": "https://localhost:8080/"
        },
        "id": "8xJlJd4615BM",
        "outputId": "d25d1d11-808d-4f5b-e2c6-5ad38b4f0f1b"
      },
      "execution_count": null,
      "outputs": [
        {
          "output_type": "execute_result",
          "data": {
            "text/plain": [
              "[101, 12, 10, 74, 85]"
            ]
          },
          "metadata": {},
          "execution_count": 22
        }
      ]
    },
    {
      "cell_type": "code",
      "source": [
        "runs [-5:-1:-1]"
      ],
      "metadata": {
        "colab": {
          "base_uri": "https://localhost:8080/"
        },
        "id": "lCfpBhMT2avB",
        "outputId": "9a58b601-e250-4eb3-9d01-f631d2cce682"
      },
      "execution_count": null,
      "outputs": [
        {
          "output_type": "execute_result",
          "data": {
            "text/plain": [
              "[]"
            ]
          },
          "metadata": {},
          "execution_count": 23
        }
      ]
    },
    {
      "cell_type": "code",
      "source": [
        "#rotate the list bu 1 element\n",
        "lister =['a','b','c','d','e']"
      ],
      "metadata": {
        "id": "DRpvZw5L3P-f"
      },
      "execution_count": null,
      "outputs": []
    },
    {
      "cell_type": "code",
      "source": [
        "\n",
        "\n",
        "# remove the last element\n",
        "#insert it in the first postion\n",
        "last_element = lister[-1]\n",
        "initial_elements= lister[:len(lister)-1]\n",
        "\n",
        "result = list(last_element) + initial_elements\n",
        "#result = [last_element] + initial_elements\n"
      ],
      "metadata": {
        "id": "Z41Gutwj3_ap"
      },
      "execution_count": null,
      "outputs": []
    },
    {
      "cell_type": "code",
      "source": [
        "initial_elements"
      ],
      "metadata": {
        "colab": {
          "base_uri": "https://localhost:8080/"
        },
        "id": "RHEN1vlp5cZI",
        "outputId": "c78d3648-0936-441a-e9e5-e5b3c4c0bfa0"
      },
      "execution_count": null,
      "outputs": [
        {
          "output_type": "execute_result",
          "data": {
            "text/plain": [
              "['a', 'b', 'c', 'd']"
            ]
          },
          "metadata": {},
          "execution_count": 31
        }
      ]
    },
    {
      "cell_type": "code",
      "source": [
        "result"
      ],
      "metadata": {
        "colab": {
          "base_uri": "https://localhost:8080/"
        },
        "id": "71UhX1ii44Zj",
        "outputId": "4f11d5f6-524b-4a91-fbb4-6fbf03e4dc79"
      },
      "execution_count": null,
      "outputs": [
        {
          "output_type": "execute_result",
          "data": {
            "text/plain": [
              "['e', 'a', 'b', 'c', 'd']"
            ]
          },
          "metadata": {},
          "execution_count": 30
        }
      ]
    },
    {
      "cell_type": "code",
      "source": [
        "# so far\n",
        "#reverse a list\n",
        "\n",
        "lister[::-1]"
      ],
      "metadata": {
        "colab": {
          "base_uri": "https://localhost:8080/"
        },
        "id": "WkE0ogCL5FLt",
        "outputId": "32de1579-1f85-4e66-af38-ad9788c9f2cb"
      },
      "execution_count": null,
      "outputs": [
        {
          "output_type": "execute_result",
          "data": {
            "text/plain": [
              "['e', 'd', 'c', 'b', 'a']"
            ]
          },
          "metadata": {},
          "execution_count": 32
        }
      ]
    },
    {
      "cell_type": "code",
      "source": [
        "lister.reverse()\n"
      ],
      "metadata": {
        "id": "rEgtFWM85qxd"
      },
      "execution_count": null,
      "outputs": []
    },
    {
      "cell_type": "code",
      "source": [
        "lister"
      ],
      "metadata": {
        "colab": {
          "base_uri": "https://localhost:8080/"
        },
        "id": "J4A77Kk_5usp",
        "outputId": "a093ba92-3144-49fa-e271-8a2883cdcaf6"
      },
      "execution_count": null,
      "outputs": [
        {
          "output_type": "execute_result",
          "data": {
            "text/plain": [
              "['e', 'd', 'c', 'b', 'a']"
            ]
          },
          "metadata": {},
          "execution_count": 34
        }
      ]
    },
    {
      "cell_type": "code",
      "source": [
        "list(reversed(lister))"
      ],
      "metadata": {
        "colab": {
          "base_uri": "https://localhost:8080/"
        },
        "id": "vYHkBJt65wHT",
        "outputId": "a7f660b3-e884-45f7-bc69-cf5a438b7fcf"
      },
      "execution_count": null,
      "outputs": [
        {
          "output_type": "execute_result",
          "data": {
            "text/plain": [
              "['a', 'b', 'c', 'd', 'e']"
            ]
          },
          "metadata": {},
          "execution_count": 36
        }
      ]
    },
    {
      "cell_type": "code",
      "source": [
        "lister"
      ],
      "metadata": {
        "colab": {
          "base_uri": "https://localhost:8080/"
        },
        "id": "7S6-uI0J6XF3",
        "outputId": "94fa2352-5fbb-4f5b-d5bd-80bad820cbe3"
      },
      "execution_count": null,
      "outputs": [
        {
          "output_type": "execute_result",
          "data": {
            "text/plain": [
              "['e', 'd', 'c', 'b', 'a']"
            ]
          },
          "metadata": {},
          "execution_count": 37
        }
      ]
    },
    {
      "cell_type": "code",
      "source": [
        "xyz.reverse ---> this will affect the original list\n",
        "xyz[::-1] -->this will not affect the original list\n",
        "list(reversed(xyz))---> this will not affect the original list"
      ],
      "metadata": {
        "id": "1qmW036l6g9p"
      },
      "execution_count": null,
      "outputs": []
    },
    {
      "cell_type": "code",
      "source": [
        "a = [[1, 2, 3], [4, 5, 6], [7, 8, 9]]\n"
      ],
      "metadata": {
        "id": "5gs7UHS590l2"
      },
      "execution_count": null,
      "outputs": []
    },
    {
      "cell_type": "code",
      "source": [
        "print(a)"
      ],
      "metadata": {
        "colab": {
          "base_uri": "https://localhost:8080/"
        },
        "id": "4pdPSqDA90od",
        "outputId": "0da7dc3b-6ad0-4150-9885-48241035476a"
      },
      "execution_count": null,
      "outputs": [
        {
          "output_type": "stream",
          "name": "stdout",
          "text": [
            "[[1, 2, 3], [4, 5, 6], [7, 8, 9]]\n"
          ]
        }
      ]
    },
    {
      "cell_type": "code",
      "source": [
        "a[0]"
      ],
      "metadata": {
        "colab": {
          "base_uri": "https://localhost:8080/"
        },
        "id": "IDbJy5tU90qp",
        "outputId": "ce812f5e-79bc-401c-e402-3bff83bc7174"
      },
      "execution_count": null,
      "outputs": [
        {
          "output_type": "execute_result",
          "data": {
            "text/plain": [
              "[1, 2, 3]"
            ]
          },
          "metadata": {},
          "execution_count": 40
        }
      ]
    },
    {
      "cell_type": "code",
      "source": [
        "a[1]"
      ],
      "metadata": {
        "colab": {
          "base_uri": "https://localhost:8080/"
        },
        "id": "rxqViV5u90so",
        "outputId": "008daf9c-b24b-404d-cf1d-a5e8b3c070f9"
      },
      "execution_count": null,
      "outputs": [
        {
          "output_type": "execute_result",
          "data": {
            "text/plain": [
              "[4, 5, 6]"
            ]
          },
          "metadata": {},
          "execution_count": 41
        }
      ]
    },
    {
      "cell_type": "code",
      "source": [
        "a[2]"
      ],
      "metadata": {
        "colab": {
          "base_uri": "https://localhost:8080/"
        },
        "id": "D2xWAsP397v1",
        "outputId": "c860352a-d237-48ab-c4bd-969590f8e1ae"
      },
      "execution_count": null,
      "outputs": [
        {
          "output_type": "execute_result",
          "data": {
            "text/plain": [
              "[7, 8, 9]"
            ]
          },
          "metadata": {},
          "execution_count": 42
        }
      ]
    },
    {
      "cell_type": "code",
      "source": [
        "#second col of first row\n",
        "\n",
        "a[0][1] # a[i][j]"
      ],
      "metadata": {
        "colab": {
          "base_uri": "https://localhost:8080/"
        },
        "id": "ndG7_4kq-BTL",
        "outputId": "59de7be2-7a86-4189-c966-8083b8b1c37a"
      },
      "execution_count": null,
      "outputs": [
        {
          "output_type": "execute_result",
          "data": {
            "text/plain": [
              "2"
            ]
          },
          "metadata": {},
          "execution_count": 43
        }
      ]
    },
    {
      "cell_type": "code",
      "source": [
        "a"
      ],
      "metadata": {
        "colab": {
          "base_uri": "https://localhost:8080/"
        },
        "id": "VesZ1yCJ-IHB",
        "outputId": "d6e2b4e4-c4f2-476e-c874-465f05d892cc"
      },
      "execution_count": null,
      "outputs": [
        {
          "output_type": "execute_result",
          "data": {
            "text/plain": [
              "[[1, 2, 3], [4, 5, 6], [7, 8, 9]]"
            ]
          },
          "metadata": {},
          "execution_count": 44
        }
      ]
    },
    {
      "cell_type": "code",
      "source": [
        "for i in range(len(a)):\n",
        "  print(a[i])\n"
      ],
      "metadata": {
        "colab": {
          "base_uri": "https://localhost:8080/"
        },
        "id": "cIeyOESN-bC9",
        "outputId": "51449d62-64c8-453a-94c9-12ec9c8f86d6"
      },
      "execution_count": null,
      "outputs": [
        {
          "output_type": "stream",
          "name": "stdout",
          "text": [
            "[1, 2, 3]\n",
            "[4, 5, 6]\n",
            "[7, 8, 9]\n"
          ]
        }
      ]
    },
    {
      "cell_type": "code",
      "source": [
        "len(a[0])"
      ],
      "metadata": {
        "colab": {
          "base_uri": "https://localhost:8080/"
        },
        "id": "YDkh38RG-xs0",
        "outputId": "fbe5bfac-7a22-4f4f-c432-4765a0a7dbf6"
      },
      "execution_count": null,
      "outputs": [
        {
          "output_type": "execute_result",
          "data": {
            "text/plain": [
              "3"
            ]
          },
          "metadata": {},
          "execution_count": 47
        }
      ]
    },
    {
      "cell_type": "code",
      "source": [
        "for i in range(len(a)):\n",
        "  for j in range (len(a[0])):\n",
        "    print(\" row is: \",a[i])\n",
        "    print(\" column is: \",a[i][j])\n",
        "    print(\"-------------\")\n",
        "\n"
      ],
      "metadata": {
        "colab": {
          "base_uri": "https://localhost:8080/"
        },
        "id": "r6HYYRfn-mLp",
        "outputId": "0fd2a626-48ee-4fad-ddb4-595cca0e34a5"
      },
      "execution_count": null,
      "outputs": [
        {
          "output_type": "stream",
          "name": "stdout",
          "text": [
            " row is:  [1, 2, 3]\n",
            " column is:  1\n",
            "-------------\n",
            " row is:  [1, 2, 3]\n",
            " column is:  2\n",
            "-------------\n",
            " row is:  [1, 2, 3]\n",
            " column is:  3\n",
            "-------------\n",
            " row is:  [4, 5, 6]\n",
            " column is:  4\n",
            "-------------\n",
            " row is:  [4, 5, 6]\n",
            " column is:  5\n",
            "-------------\n",
            " row is:  [4, 5, 6]\n",
            " column is:  6\n",
            "-------------\n",
            " row is:  [7, 8, 9]\n",
            " column is:  7\n",
            "-------------\n",
            " row is:  [7, 8, 9]\n",
            " column is:  8\n",
            "-------------\n",
            " row is:  [7, 8, 9]\n",
            " column is:  9\n",
            "-------------\n"
          ]
        }
      ]
    },
    {
      "cell_type": "code",
      "source": [
        "random = [[1, 2, 3], [\"a\", \"b\", \"c\", \"d\", \"e\"], [4.5, 6.7]]\n"
      ],
      "metadata": {
        "id": "5FnOqUaP_ElY"
      },
      "execution_count": null,
      "outputs": []
    },
    {
      "cell_type": "code",
      "source": [
        "for i in random:\n",
        "  print(i)"
      ],
      "metadata": {
        "colab": {
          "base_uri": "https://localhost:8080/"
        },
        "id": "4PQ4VHod_ma4",
        "outputId": "2cbfa40b-ece5-484d-8bbf-664b3b01561d"
      },
      "execution_count": null,
      "outputs": [
        {
          "output_type": "stream",
          "name": "stdout",
          "text": [
            "[1, 2, 3]\n",
            "['a', 'b', 'c', 'd', 'e']\n",
            "[4.5, 6.7]\n"
          ]
        }
      ]
    },
    {
      "cell_type": "code",
      "source": [
        "for i in random:\n",
        "  for j in i:\n",
        "    print (j, end=\" \")\n",
        "  print()"
      ],
      "metadata": {
        "colab": {
          "base_uri": "https://localhost:8080/"
        },
        "id": "3009YH2q_pfA",
        "outputId": "bcfc4c9c-319c-41ab-fb1b-c8771d524281"
      },
      "execution_count": null,
      "outputs": [
        {
          "output_type": "stream",
          "name": "stdout",
          "text": [
            "1 2 3 \n",
            "a b c d e \n",
            "4.5 6.7 \n"
          ]
        }
      ]
    },
    {
      "cell_type": "code",
      "source": [
        "a=[]\n",
        "for i in range (3):\n",
        "\n",
        "  inner_list=[]\n",
        "\n",
        "  for j in range(3):\n",
        "    x=int(input())\n",
        "    inner_list.append(x)\n",
        "\n",
        "  a.append (inner_list)"
      ],
      "metadata": {
        "colab": {
          "base_uri": "https://localhost:8080/"
        },
        "id": "ISmtCWpc_6GI",
        "outputId": "ab4c47bb-7379-4383-cd12-ca71a4417397"
      },
      "execution_count": null,
      "outputs": [
        {
          "name": "stdout",
          "output_type": "stream",
          "text": [
            "100\n",
            "200\n",
            "300\n",
            "400\n",
            "500\n",
            "600\n",
            "700\n",
            "800\n",
            "900\n"
          ]
        }
      ]
    },
    {
      "cell_type": "code",
      "source": [
        "a"
      ],
      "metadata": {
        "colab": {
          "base_uri": "https://localhost:8080/"
        },
        "id": "6m9DBc6pC3w_",
        "outputId": "7c6d7eee-1f20-4294-d601-3a831b5b02fa"
      },
      "execution_count": null,
      "outputs": [
        {
          "output_type": "execute_result",
          "data": {
            "text/plain": [
              "[[100, 200, 300], [400, 500, 600], [700, 800, 900]]"
            ]
          },
          "metadata": {},
          "execution_count": 64
        }
      ]
    },
    {
      "cell_type": "code",
      "source": [
        "sum_All=0\n",
        "for i in a:\n",
        "  for j in i:\n",
        "    sum_All= sum_All + j"
      ],
      "metadata": {
        "id": "f_n8hJBDDAwB"
      },
      "execution_count": null,
      "outputs": []
    },
    {
      "cell_type": "code",
      "source": [
        "sum_All"
      ],
      "metadata": {
        "colab": {
          "base_uri": "https://localhost:8080/"
        },
        "id": "Wc0lA_apDnjj",
        "outputId": "a013843a-5dd7-455c-bf27-588012b17daa"
      },
      "execution_count": null,
      "outputs": [
        {
          "output_type": "execute_result",
          "data": {
            "text/plain": [
              "4500"
            ]
          },
          "metadata": {},
          "execution_count": 66
        }
      ]
    },
    {
      "cell_type": "code",
      "source": [
        "sum_All=[0,0,0]\n",
        "for i in range(len(a)):\n",
        "  for j in range(len(a[0])):\n",
        "    sum_All[i]= sum_All[i] + a[i][j]"
      ],
      "metadata": {
        "id": "SJrUSO6fDomO"
      },
      "execution_count": null,
      "outputs": []
    },
    {
      "cell_type": "code",
      "source": [
        "sum_All"
      ],
      "metadata": {
        "colab": {
          "base_uri": "https://localhost:8080/"
        },
        "id": "58Yc1ALsEcLa",
        "outputId": "37a7c070-d94d-499e-a6db-cede63b6431f"
      },
      "execution_count": null,
      "outputs": [
        {
          "output_type": "execute_result",
          "data": {
            "text/plain": [
              "[600, 1500, 2400]"
            ]
          },
          "metadata": {},
          "execution_count": 70
        }
      ]
    },
    {
      "cell_type": "code",
      "source": [],
      "metadata": {
        "id": "3LVCjWQjE4fw"
      },
      "execution_count": null,
      "outputs": []
    }
  ]
}